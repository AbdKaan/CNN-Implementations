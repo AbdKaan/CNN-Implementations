{
 "cells": [
  {
   "cell_type": "code",
   "execution_count": 7,
   "metadata": {
    "scrolled": true
   },
   "outputs": [],
   "source": [
    "import warnings\n",
    "warnings.filterwarnings('ignore')\n",
    "\n",
    "import pandas as pd\n",
    "import numpy as np\n",
    "import tensorflow as tf\n",
    "import pydot\n",
    "from keras.models import Sequential\n",
    "from keras.layers import Conv2D, MaxPooling2D, Flatten, Dense, Activation\n",
    "from keras.datasets import mnist\n",
    "from keras.utils.np_utils import to_categorical\n",
    "from keras.metrics import categorical_accuracy"
   ]
  },
  {
   "cell_type": "code",
   "execution_count": 8,
   "metadata": {},
   "outputs": [],
   "source": [
    "def lenet_model(img_shape=(32, 32, 1), classes = 10):\n",
    "    LeNet = Sequential()\n",
    "    \n",
    "    # Convolutional Layer 1\n",
    "    LeNet.add(Conv2D(filters=6, kernel_size=5, strides=1, input_shape=img_shape))\n",
    "    LeNet.add(Activation('tanh'))\n",
    "    LeNet.add(MaxPooling2D(pool_size=2, strides=2))\n",
    "    \n",
    "    # Convolutional Layer 2\n",
    "    LeNet.add(Conv2D(filters=16, kernel_size=5, strides=1))\n",
    "    LeNet.add(Activation('tanh'))\n",
    "    LeNet.add(MaxPooling2D(pool_size=(2,2), strides=2))\n",
    "    \n",
    "    # Convolutional Layer 3\n",
    "    LeNet.add(Conv2D(filters=120, kernel_size=5, strides=1))\n",
    "    LeNet.add(Activation('tanh'))\n",
    "    \n",
    "    # Fully-Connected Layer for Dense Layers\n",
    "    LeNet.add(Flatten())\n",
    "    \n",
    "    # Dense Layer 1\n",
    "    LeNet.add(Dense(84, activation='tanh'))\n",
    "\n",
    "    # Output Layer\n",
    "    LeNet.add(Dense(classes, activation='softmax'))\n",
    "    \n",
    "    return LeNet"
   ]
  },
  {
   "cell_type": "code",
   "execution_count": 9,
   "metadata": {},
   "outputs": [],
   "source": [
    "# Load dataset as train and test sets\n",
    "(x_train, y_train), (x_test, y_test) = mnist.load_data()\n",
    "\n",
    "# Set numeric type to float32 from uint8\n",
    "x_train = x_train.astype('float32')\n",
    "x_test = x_test.astype('float32')\n",
    "\n",
    "# Normalize value to [0, 1]\n",
    "x_train /= 255\n",
    "x_test /= 255\n",
    "\n",
    "# Transform labels to one-hot encoding\n",
    "y_train = to_categorical(y_train, 10)\n",
    "y_test = to_categorical(y_test, 10)\n",
    "\n",
    "# Reshape the dataset into 4D array\n",
    "x_train = x_train.reshape(x_train.shape[0], 28,28,1)\n",
    "x_test = x_test.reshape(x_test.shape[0], 28,28,1)\n",
    "\n",
    "# In the paper, input is 32x32 so pad the input by 0's\n",
    "x_train = np.pad(x_train, ((0,0), (2,2), (2,2), (0,0)), 'constant')\n",
    "x_test = np.pad(x_test, ((0,0), (2,2), (2,2), (0,0)), 'constant')"
   ]
  },
  {
   "cell_type": "code",
   "execution_count": 10,
   "metadata": {},
   "outputs": [
    {
     "name": "stdout",
     "output_type": "stream",
     "text": [
      "(60000, 32, 32, 1)\n"
     ]
    }
   ],
   "source": [
    "print(x_train.shape)"
   ]
  },
  {
   "cell_type": "code",
   "execution_count": 11,
   "metadata": {},
   "outputs": [
    {
     "name": "stdout",
     "output_type": "stream",
     "text": [
      "_________________________________________________________________\n",
      "Layer (type)                 Output Shape              Param #   \n",
      "=================================================================\n",
      "conv2d_4 (Conv2D)            (None, 28, 28, 6)         156       \n",
      "_________________________________________________________________\n",
      "activation_4 (Activation)    (None, 28, 28, 6)         0         \n",
      "_________________________________________________________________\n",
      "max_pooling2d_3 (MaxPooling2 (None, 14, 14, 6)         0         \n",
      "_________________________________________________________________\n",
      "conv2d_5 (Conv2D)            (None, 10, 10, 16)        2416      \n",
      "_________________________________________________________________\n",
      "activation_5 (Activation)    (None, 10, 10, 16)        0         \n",
      "_________________________________________________________________\n",
      "max_pooling2d_4 (MaxPooling2 (None, 5, 5, 16)          0         \n",
      "_________________________________________________________________\n",
      "conv2d_6 (Conv2D)            (None, 1, 1, 120)         48120     \n",
      "_________________________________________________________________\n",
      "activation_6 (Activation)    (None, 1, 1, 120)         0         \n",
      "_________________________________________________________________\n",
      "flatten_2 (Flatten)          (None, 120)               0         \n",
      "_________________________________________________________________\n",
      "dense_3 (Dense)              (None, 84)                10164     \n",
      "_________________________________________________________________\n",
      "dense_4 (Dense)              (None, 10)                850       \n",
      "=================================================================\n",
      "Total params: 61,706\n",
      "Trainable params: 61,706\n",
      "Non-trainable params: 0\n",
      "_________________________________________________________________\n"
     ]
    }
   ],
   "source": [
    "LeNet = lenet_model(img_shape=(32,32,1), classes=10)\n",
    "LeNet.summary()"
   ]
  },
  {
   "cell_type": "code",
   "execution_count": 12,
   "metadata": {
    "scrolled": true
   },
   "outputs": [
    {
     "name": "stdout",
     "output_type": "stream",
     "text": [
      "Epoch 1/10\n",
      "60000/60000 [==============================] - 4s 64us/step - loss: 1.0911 - acc: 0.7482\n",
      "Epoch 2/10\n",
      "60000/60000 [==============================] - 3s 58us/step - loss: 0.4134 - acc: 0.8910\n",
      "Epoch 3/10\n",
      "60000/60000 [==============================] - 3s 58us/step - loss: 0.3102 - acc: 0.9137\n",
      "Epoch 4/10\n",
      "60000/60000 [==============================] - 3s 58us/step - loss: 0.2527 - acc: 0.9295\n",
      "Epoch 5/10\n",
      "60000/60000 [==============================] - 3s 58us/step - loss: 0.2122 - acc: 0.9407\n",
      "Epoch 6/10\n",
      "60000/60000 [==============================] - 3s 58us/step - loss: 0.1823 - acc: 0.9484\n",
      "Epoch 7/10\n",
      "60000/60000 [==============================] - 3s 58us/step - loss: 0.1598 - acc: 0.9551\n",
      "Epoch 8/10\n",
      "60000/60000 [==============================] - 3s 58us/step - loss: 0.1426 - acc: 0.9597\n",
      "Epoch 9/10\n",
      "60000/60000 [==============================] - 4s 58us/step - loss: 0.1295 - acc: 0.9635\n",
      "Epoch 10/10\n",
      "60000/60000 [==============================] - 4s 58us/step - loss: 0.1191 - acc: 0.9664\n"
     ]
    },
    {
     "data": {
      "text/plain": [
       "<keras.callbacks.History at 0x7f6739b1edd8>"
      ]
     },
     "execution_count": 12,
     "metadata": {},
     "output_type": "execute_result"
    }
   ],
   "source": [
    "# Compile Model\n",
    "LeNet.compile(optimizer='SGD', loss='categorical_crossentropy', metrics=['accuracy'])\n",
    "LeNet.fit(x_train, y_train, epochs=10, batch_size=128)"
   ]
  },
  {
   "cell_type": "code",
   "execution_count": 13,
   "metadata": {},
   "outputs": [
    {
     "name": "stdout",
     "output_type": "stream",
     "text": [
      "10000/10000 [==============================] - 0s 28us/step\n",
      "Loss on test set:  0.10436812667250633\n",
      "Accuracy on test set:  0.9687\n"
     ]
    }
   ],
   "source": [
    "loss_and_metrics = LeNet.evaluate(x_test, y_test, batch_size=128)\n",
    "print(\"Loss on test set: \", loss_and_metrics[0])\n",
    "print(\"Accuracy on test set: \", loss_and_metrics[1])"
   ]
  }
 ],
 "metadata": {
  "kernelspec": {
   "display_name": "Python 3",
   "language": "python",
   "name": "python3"
  },
  "language_info": {
   "codemirror_mode": {
    "name": "ipython",
    "version": 3
   },
   "file_extension": ".py",
   "mimetype": "text/x-python",
   "name": "python",
   "nbconvert_exporter": "python",
   "pygments_lexer": "ipython3",
   "version": "3.6.9"
  }
 },
 "nbformat": 4,
 "nbformat_minor": 2
}
